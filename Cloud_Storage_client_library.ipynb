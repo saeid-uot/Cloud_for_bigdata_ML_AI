{
  "nbformat": 4,
  "nbformat_minor": 0,
  "metadata": {
    "kernelspec": {
      "display_name": "Python 3",
      "language": "python",
      "name": "python3"
    },
    "language_info": {
      "codemirror_mode": {
        "name": "ipython",
        "version": 3
      },
      "file_extension": ".py",
      "mimetype": "text/x-python",
      "name": "python",
      "nbconvert_exporter": "python",
      "pygments_lexer": "ipython3",
      "version": "3.6.4"
    },
    "colab": {
      "name": "Cloud Storage client library.ipynb",
      "provenance": [],
      "collapsed_sections": [
        "efj0wJzY4Tq_",
        "IBA2V3fP4TrQ",
        "80AFGq1H4TrT",
        "UpPuO79T4TrX",
        "huXPJ5G54TrZ",
        "K-XsKtQQ4Trc",
        "wP2JyVFu4Trf"
      ],
      "include_colab_link": true
    }
  },
  "cells": [
    {
      "cell_type": "markdown",
      "metadata": {
        "id": "view-in-github",
        "colab_type": "text"
      },
      "source": [
        "<a href=\"https://colab.research.google.com/github/saeid-uot/Cloud_for_bigdata_ML_AI/blob/master/Cloud_Storage_client_library.ipynb\" target=\"_parent\"><img src=\"https://colab.research.google.com/assets/colab-badge.svg\" alt=\"Open In Colab\"/></a>"
      ]
    },
    {
      "cell_type": "markdown",
      "metadata": {
        "id": "sUahY8vU4Tq-"
      },
      "source": [
        "\n",
        "# Objective: Get started with [*Cloud Storage client library*](https://googleapis.github.io/google-cloud-python/latest/storage/index.html)."
      ]
    },
    {
      "cell_type": "markdown",
      "metadata": {
        "id": "efj0wJzY4Tq_"
      },
      "source": [
        "## Create a storage bucket\n",
        "\n",
        "Buckets are the basic containers that hold your data. Everything that you store in Cloud Storage must be contained in a bucket. You can use buckets to organize your data and control access to your data.\n",
        "\n",
        "Start by importing the library:"
      ]
    },
    {
      "cell_type": "code",
      "metadata": {
        "id": "Slf5tjKE4TrA"
      },
      "source": [
        "from google.cloud import storage"
      ],
      "execution_count": null,
      "outputs": []
    },
    {
      "cell_type": "markdown",
      "metadata": {
        "id": "Vtic8i324TrD"
      },
      "source": [
        "The `storage.Client` object uses your default project. Alternatively, you can specify a project in the `Client` constructor. For more information about how the default project is determined, see the [google-auth documentation](https://google-auth.readthedocs.io/en/latest/reference/google.auth.html).\n",
        "\n",
        "Run the following to create a client with your default project:"
      ]
    },
    {
      "cell_type": "code",
      "metadata": {
        "id": "ggZOw4PM4TrE"
      },
      "source": [
        "client = storage.Client()\n",
        "print(\"Client created using default project: {}\".format(client.project))"
      ],
      "execution_count": null,
      "outputs": []
    },
    {
      "cell_type": "markdown",
      "metadata": {
        "id": "ke0UBYpT4TrH"
      },
      "source": [
        "To explicitly specify a project when constructing the client, set the `project` parameter:"
      ]
    },
    {
      "cell_type": "code",
      "metadata": {
        "id": "nGXA4NIX4TrH"
      },
      "source": [
        "# client = storage.Client(project='your-project-id')"
      ],
      "execution_count": null,
      "outputs": []
    },
    {
      "cell_type": "markdown",
      "metadata": {
        "id": "6iRiKBe-4TrK"
      },
      "source": [
        "Finally, create a bucket with a globally unique name.\n",
        "\n",
        "For more information about naming buckets, see [Bucket name requirements](https://cloud.google.com/storage/docs/naming#requirements)."
      ]
    },
    {
      "cell_type": "code",
      "metadata": {
        "id": "cAfWYdhk4TrK"
      },
      "source": [
        "# Replace the string below with a unique name for the new bucket\n",
        "bucket_name = \"your-new-bucket\"\n",
        "\n",
        "# Creates the new bucket\n",
        "bucket = client.create_bucket(bucket_name)\n",
        "\n",
        "print(\"Bucket {} created.\".format(bucket.name))"
      ],
      "execution_count": null,
      "outputs": []
    },
    {
      "cell_type": "markdown",
      "metadata": {
        "id": "IBA2V3fP4TrQ"
      },
      "source": [
        "## List buckets in a project"
      ]
    },
    {
      "cell_type": "code",
      "metadata": {
        "id": "KLkW9zIm4TrQ"
      },
      "source": [
        "buckets = client.list_buckets()\n",
        "\n",
        "print(\"Buckets in {}:\".format(client.project))\n",
        "for item in buckets:\n",
        "    print(\"\\t\" + item.name)"
      ],
      "execution_count": null,
      "outputs": []
    },
    {
      "cell_type": "markdown",
      "metadata": {
        "id": "80AFGq1H4TrT"
      },
      "source": [
        "## Get bucket metadata\n",
        "\n",
        "The next cell shows how to get information on metadata of your Cloud Storage buckets.\n",
        "\n",
        "To learn more about specific bucket properties, see [Bucket locations](https://cloud.google.com/storage/docs/locations) and [Storage classes](https://cloud.google.com/storage/docs/storage-classes)."
      ]
    },
    {
      "cell_type": "code",
      "metadata": {
        "id": "pGyXBy1s4TrU"
      },
      "source": [
        "bucket = client.get_bucket(bucket_name)\n",
        "\n",
        "print(\"Bucket name: {}\".format(bucket.name))\n",
        "print(\"Bucket location: {}\".format(bucket.location))\n",
        "print(\"Bucket storage class: {}\".format(bucket.storage_class))"
      ],
      "execution_count": null,
      "outputs": []
    },
    {
      "cell_type": "markdown",
      "metadata": {
        "id": "UpPuO79T4TrX"
      },
      "source": [
        "## Upload a local file to a bucket\n",
        "\n",
        "Objects are the individual pieces of data that you store in Cloud Storage. Objects are referred to as \"blobs\" in the Python client library. There is no limit on the number of objects that you can create in a bucket.\n",
        "\n",
        "An object's name is treated as a piece of object metadata in Cloud Storage. Object names can contain any combination of Unicode characters (UTF-8 encoded) and must be less than 1024 bytes in length.\n",
        "\n",
        "For more information, including how to rename an object, see the [Object name requirements](https://cloud.google.com/storage/docs/naming#objectnames)."
      ]
    },
    {
      "cell_type": "code",
      "metadata": {
        "scrolled": true,
        "id": "9flBbNgC4TrX"
      },
      "source": [
        "blob_name = \"us-states.txt\"\n",
        "blob = bucket.blob(blob_name)\n",
        "\n",
        "source_file_name = \"resources/us-states.txt\"\n",
        "blob.upload_from_filename(source_file_name)\n",
        "\n",
        "print(\"File uploaded to {}.\".format(bucket.name))"
      ],
      "execution_count": null,
      "outputs": []
    },
    {
      "cell_type": "markdown",
      "metadata": {
        "id": "huXPJ5G54TrZ"
      },
      "source": [
        "## List blobs in a bucket"
      ]
    },
    {
      "cell_type": "code",
      "metadata": {
        "scrolled": true,
        "id": "K2vc41bh4Tra"
      },
      "source": [
        "blobs = bucket.list_blobs()\n",
        "\n",
        "print(\"Blobs in {}:\".format(bucket.name))\n",
        "for item in blobs:\n",
        "    print(\"\\t\" + item.name)"
      ],
      "execution_count": null,
      "outputs": []
    },
    {
      "cell_type": "markdown",
      "metadata": {
        "id": "K-XsKtQQ4Trc"
      },
      "source": [
        "## Get a blob and display metadata\n",
        "\n",
        "See [documentation](https://cloud.google.com/storage/docs/viewing-editing-metadata) for more information about object metadata."
      ]
    },
    {
      "cell_type": "code",
      "metadata": {
        "id": "hB_4Yz2f4Trc"
      },
      "source": [
        "blob = bucket.get_blob(blob_name)\n",
        "\n",
        "print(\"Name: {}\".format(blob.id))\n",
        "print(\"Size: {} bytes\".format(blob.size))\n",
        "print(\"Content type: {}\".format(blob.content_type))\n",
        "print(\"Public URL: {}\".format(blob.public_url))"
      ],
      "execution_count": null,
      "outputs": []
    },
    {
      "cell_type": "markdown",
      "metadata": {
        "id": "wP2JyVFu4Trf"
      },
      "source": [
        "## Download a blob to a local directory"
      ]
    },
    {
      "cell_type": "code",
      "metadata": {
        "scrolled": true,
        "id": "6RbLaua24Trf"
      },
      "source": [
        "output_file_name = \"resources/downloaded-us-states.txt\"\n",
        "blob.download_to_filename(output_file_name)\n",
        "\n",
        "print(\"Downloaded blob {} to {}.\".format(blob.name, output_file_name))"
      ],
      "execution_count": null,
      "outputs": []
    },
    {
      "cell_type": "markdown",
      "metadata": {
        "id": "4w_268F44Tri"
      },
      "source": [
        "### Cleaning up"
      ]
    },
    {
      "cell_type": "markdown",
      "metadata": {
        "id": "Gy6rTtMp4Tri"
      },
      "source": [
        "### Delete a blob"
      ]
    },
    {
      "cell_type": "code",
      "metadata": {
        "id": "u_QaoxVF4Trj"
      },
      "source": [
        "blob = client.get_bucket(bucket_name).get_blob(blob_name)\n",
        "blob.delete()\n",
        "\n",
        "print(\"Blob {} deleted.\".format(blob.name))"
      ],
      "execution_count": null,
      "outputs": []
    },
    {
      "cell_type": "markdown",
      "metadata": {
        "id": "XWGPh4p64Trl"
      },
      "source": [
        "### Delete a bucket\n",
        "\n",
        "Note that the bucket must be empty before it can be deleted."
      ]
    },
    {
      "cell_type": "code",
      "metadata": {
        "id": "S587fkuZ4Trm"
      },
      "source": [
        "bucket = client.get_bucket(bucket_name)\n",
        "bucket.delete()\n",
        "\n",
        "print(\"Bucket {} deleted.\".format(bucket.name))"
      ],
      "execution_count": null,
      "outputs": []
    },
    {
      "cell_type": "markdown",
      "metadata": {
        "id": "pigsVNuB4Tro"
      },
      "source": [
        "## Resources\n",
        "\n",
        "Read more about Cloud Storage in the documentation:\n",
        "\n",
        "+ [How-to guides](https://cloud.google.com/storage/docs/how-to)"
      ]
    }
  ]
}